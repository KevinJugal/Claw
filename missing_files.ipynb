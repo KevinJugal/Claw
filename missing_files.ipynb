{
  "nbformat": 4,
  "nbformat_minor": 0,
  "metadata": {
    "colab": {
      "provenance": []
    },
    "kernelspec": {
      "name": "python3",
      "display_name": "Python 3"
    },
    "language_info": {
      "name": "python"
    }
  },
  "cells": [
    {
      "cell_type": "code",
      "execution_count": null,
      "metadata": {
        "colab": {
          "base_uri": "https://localhost:8080/"
        },
        "id": "wwqMSoQB81ax",
        "outputId": "973d0359-f07d-41b0-e6fe-ce6be61aa03d"
      },
      "outputs": [
        {
          "output_type": "stream",
          "name": "stdout",
          "text": [
            "Missing files have been stored in 'missing_files.txt'.\n"
          ]
        }
      ],
      "source": [
        "import csv\n",
        "import os\n",
        "from google.oauth2.credentials import Credentials\n",
        "from googleapiclient.discovery import build\n",
        "from google_auth_oauthlib.flow import InstalledAppFlow\n",
        "from google.auth.transport.requests import Request\n",
        "\n",
        "# Define the scope for the Google Drive API\n",
        "SCOPES = ['https://www.googleapis.com/auth/drive']\n",
        "\n",
        "def authenticate():\n",
        "    \"\"\"Authenticate the user using existing credentials and token.\"\"\"\n",
        "    creds = None\n",
        "    # Check if token.json exists to determine if the user has previously authenticated.\n",
        "    if os.path.exists('token.json'):\n",
        "        # If token.json exists, load credentials from it.\n",
        "        creds = Credentials.from_authorized_user_file('token.json')\n",
        "\n",
        "    # If credentials are missing or invalid, start the authentication flow.\n",
        "    if not creds or not creds.valid:\n",
        "        # Check if credentials are expired and refresh if possible.\n",
        "        if creds and creds.expired and creds.refresh_token:\n",
        "            creds.refresh(Request())\n",
        "        else:\n",
        "            # If no valid credentials exist, initiate the OAuth flow.\n",
        "            flow = InstalledAppFlow.from_client_secrets_file(\n",
        "                'credentials.json', SCOPES)\n",
        "            creds = flow.run_local_server(port=0)\n",
        "\n",
        "        # Save the refreshed or newly obtained credentials to token.json for future use.\n",
        "        with open('token.json', 'w') as token:\n",
        "            token.write(creds.to_json())\n",
        "\n",
        "    # Build the Google Drive service object using the obtained credentials.\n",
        "    service = build('drive', 'v3', credentials=creds)\n",
        "    return service\n",
        "\n",
        "def get_files_in_folder(drive_service, folder_id):\n",
        "    \"\"\"\n",
        "    Retrieve the list of file names in a specific folder in Google Drive.\n",
        "    \"\"\"\n",
        "    files = set()  # Using a set to store unique file names\n",
        "    page_token = None\n",
        "    while True:\n",
        "        response = drive_service.files().list(q=f\"'{folder_id}' in parents and trashed=false\",\n",
        "                                              spaces='drive',\n",
        "                                              fields='nextPageToken, files(name)',\n",
        "                                              pageToken=page_token).execute()\n",
        "        for file in response.get('files', []):\n",
        "            files.add(file['name'])  # Adding file name to the set\n",
        "        # Get next page token\n",
        "        page_token = response.get('nextPageToken', None)\n",
        "        if page_token is None:\n",
        "            # No more pages, break the loop\n",
        "            break\n",
        "    return files\n",
        "\n",
        "if __name__ == \"__main__\":\n",
        "    # Obtain the Google Drive service object\n",
        "    drive_service = authenticate()\n",
        "\n",
        "    # Check if drive service is obtained successfully\n",
        "    if drive_service is None:\n",
        "        print(\"Failed to obtain Google Drive service. Exiting.\")\n",
        "        exit(1)\n",
        "\n",
        "    # Folder ID of the Google Drive folder\n",
        "    folder_id = '15PrnIvUGB4OdKzSjvGtdpyVLLPlBEZ2M'  # Replace with the actual folder ID\n",
        "\n",
        "    # Read the CSV file to get the doc_id values\n",
        "    csv_file_path = 'Jammu.csv'  # Replace with the path to your CSV file\n",
        "    doc_ids = set()  # Using a set to store unique doc_id values\n",
        "    with open(csv_file_path, 'r') as csvfile:\n",
        "        reader = csv.DictReader(csvfile)\n",
        "        for row in reader:\n",
        "            doc_ids.add(row['doc_id'])\n",
        "\n",
        "    # Get the list of file names in the Google Drive folder\n",
        "    existing_files = get_files_in_folder(drive_service, folder_id)\n",
        "\n",
        "    # Identify the missing doc_ids\n",
        "    missing_doc_ids = doc_ids - existing_files\n",
        "\n",
        "    # Store the missing doc_ids in a text file\n",
        "    with open('missing_files.txt', 'w') as file:\n",
        "        for doc_id in missing_doc_ids:\n",
        "            file.write(doc_id + '\\n')\n",
        "\n",
        "    print(\"Missing files have been stored in 'missing_files.txt'.\")\n"
      ]
    },
    {
      "cell_type": "code",
      "source": [
        "def count_lines_in_text_file(text_file_path):\n",
        "    count = 0\n",
        "    with open(text_file_path, 'r') as file:\n",
        "        for line in file:\n",
        "            count += 1\n",
        "    return count\n",
        "\n",
        "if __name__ == \"__main__\":\n",
        "    text_file_path = 'missing_files_jharkhand.txt'  # Replace with the path to your text file\n",
        "    line_count = count_lines_in_text_file(text_file_path)\n",
        "    print(f\"Number of lines in the text file: {line_count}\")\n"
      ],
      "metadata": {
        "colab": {
          "base_uri": "https://localhost:8080/"
        },
        "id": "5mhDyabxNYkx",
        "outputId": "3a4c8301-f731-4f74-9495-70a7f250238c"
      },
      "execution_count": null,
      "outputs": [
        {
          "output_type": "stream",
          "name": "stdout",
          "text": [
            "Number of lines in the text file: 284072\n"
          ]
        }
      ]
    }
  ]
}